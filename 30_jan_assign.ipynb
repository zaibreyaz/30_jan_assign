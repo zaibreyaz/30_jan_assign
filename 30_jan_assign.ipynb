{
 "cells": [
  {
   "cell_type": "code",
   "execution_count": 1,
   "id": "519eed96-d588-477b-a264-7813780e0698",
   "metadata": {},
   "outputs": [
    {
     "name": "stdin",
     "output_type": "stream",
     "text": [
      "Enter marks:  56\n"
     ]
    },
    {
     "name": "stdout",
     "output_type": "stream",
     "text": [
      "Grade D\n"
     ]
    }
   ],
   "source": [
    "\"\"\"Q1. Write a program to accept percentage from the user and display the grade according to the following: \"\"\"\n",
    "# Ans: \n",
    "\n",
    "marks = int(input(\"Enter marks: \"))\n",
    "if marks > 90:\n",
    "    print(\"Grade A\")\n",
    "elif 90 >= marks > 80:\n",
    "    print(\"Grade B\")\n",
    "elif 80 >= marks >= 60:\n",
    "    print(\"Grade C\")\n",
    "elif 0 <= marks < 60:\n",
    "    print(\"Grade D\")\n",
    "    "
   ]
  },
  {
   "cell_type": "code",
   "execution_count": 3,
   "id": "cb2f69ec-7856-4a0b-ac66-2fec7bcd02ff",
   "metadata": {},
   "outputs": [
    {
     "name": "stdin",
     "output_type": "stream",
     "text": [
      "Enter the cost price:  70000\n"
     ]
    },
    {
     "name": "stdout",
     "output_type": "stream",
     "text": [
      "Road tax to be paid is 7000.0\n"
     ]
    }
   ],
   "source": [
    "\"\"\"Q2. Write a program to accept the cost price of a bike and display the road tax to be paid according to the following criteria: \"\"\"\n",
    "\n",
    "# Ans: \n",
    "\n",
    "price = int(input(\"Enter the cost price: \"))\n",
    "tax = 0\n",
    "if price > 100000:\n",
    "    tax = 0.15 * price\n",
    "elif 100000 >= price > 50000:\n",
    "    tax = 0.10 * price\n",
    "elif price <= 50000:\n",
    "    tax = 0.05 * price\n",
    "\n",
    "print(f\"Road tax to be paid is {tax}\")\n"
   ]
  },
  {
   "cell_type": "code",
   "execution_count": 5,
   "id": "f922f7d0-5b12-4915-abb9-e2c76299fbe8",
   "metadata": {},
   "outputs": [
    {
     "name": "stdin",
     "output_type": "stream",
     "text": [
      "Enter city:  Agra\n"
     ]
    },
    {
     "name": "stdout",
     "output_type": "stream",
     "text": [
      "Monument from Agra is Taj Mahal \n"
     ]
    }
   ],
   "source": [
    "\"\"\"Q3. Accept any city from the user and display monuments of that city? \"\"\"\n",
    "# Ans: \n",
    "\n",
    "name = input(\"Enter city: \")\n",
    "city_name = name.lower()\n",
    "data = {\n",
    "    'delhi' : 'Red Fort',\n",
    "    'agra' : 'Taj Mahal',\n",
    "    'jaipur' : 'Jai Mahal'\n",
    "}\n",
    "\n",
    "print(f\"Monument from {name} is {data[city_name]} \")"
   ]
  },
  {
   "cell_type": "code",
   "execution_count": 15,
   "id": "9ff3130d-e0d7-490d-b6f4-a0b4e249009a",
   "metadata": {},
   "outputs": [
    {
     "name": "stdin",
     "output_type": "stream",
     "text": [
      "Enter a number:  81\n"
     ]
    },
    {
     "name": "stdout",
     "output_type": "stream",
     "text": [
      "2\n"
     ]
    }
   ],
   "source": [
    "\"\"\"Q4. Check how many times a given number can be divided by 3 before it is less than or equal to 10\"\"\"\n",
    "#  Ans:\n",
    "\n",
    "n = int(input(\"Enter a number: \"))\n",
    "count = 0\n",
    "while n > 10:\n",
    "    n = n / 3\n",
    "    count += 1\n",
    "print(count)"
   ]
  },
  {
   "cell_type": "code",
   "execution_count": 2,
   "id": "d2d1d40b-5e98-45c2-bb71-3c535e8ed44e",
   "metadata": {},
   "outputs": [
    {
     "name": "stdin",
     "output_type": "stream",
     "text": [
      "Enter the number of time you want to print hello:  5\n"
     ]
    },
    {
     "name": "stdout",
     "output_type": "stream",
     "text": [
      "Hello\n",
      "Hello\n",
      "Hello\n",
      "Hello\n",
      "Hello\n"
     ]
    }
   ],
   "source": [
    "\"\"\"Q5. Why and when to use while loop in python give a detailed description with example? \n",
    "    Ans: While Loop is used to execute a block of statements repeatedly until a given condition is satisfied. And when the condition becomes false, \n",
    "    the line immediately after the loop in the program is executed. While loops are used when you don't know how long it will take. \n",
    "    While loop falls under the category of indefinite iteration. Indefinite iteration means that the number of times the loop is executed isn’t specified explicitly in advance. \n",
    "    Statements represent all the statements indented by the same number of character spaces after a programming construct are considered to be part of a single block of code. \n",
    "    Python uses indentation as its method of grouping statements. When a while loop is executed, expr is first evaluated in a Boolean context and if it is true, the loop body is executed. \n",
    "    Then the expr is checked again, if it is still true then the body is executed again and this continues until the expression becomes false.\n",
    "\"\"\"\n",
    "\n",
    "# Example: \n",
    "n = int(input(\"Enter the number of time you want to print hello: \"))\n",
    "while n > 0:\n",
    "    n = n - 1\n",
    "    print(\"Hello\")"
   ]
  },
  {
   "cell_type": "code",
   "execution_count": 6,
   "id": "3ed95d43-237b-441c-b1e5-1a36a18fd13b",
   "metadata": {},
   "outputs": [
    {
     "name": "stdout",
     "output_type": "stream",
     "text": [
      "Pattern number: 1\n",
      "* \n",
      "* * \n",
      "* * * \n",
      "* * * * \n",
      "* * * * * \n",
      "Pattern number: 2\n",
      "  1 \n",
      "  2   3 \n",
      "  4   5   6 \n",
      "  7   8   9  10 \n",
      " 11  12  13  14  15 \n",
      "Pattern number: 3\n",
      "* * * * * \n",
      "* * * * \n",
      "* * * \n",
      "* * \n",
      "* \n"
     ]
    }
   ],
   "source": [
    "\"\"\"Q6. Use nested while loop to print 3 different pattern. \"\"\"\n",
    "\n",
    "print(\"Pattern number: 1\")\n",
    "\"\"\"\n",
    "* \n",
    "* * \n",
    "* * * \n",
    "* * * * \n",
    "* * * * *\n",
    "\"\"\"\n",
    "n = 5\n",
    "i = 1\n",
    "while i <= n :\n",
    "    j = 1\n",
    "    while j <= i:\n",
    "        print(\"*\", end = \" \")\n",
    "        j += 1\n",
    "    print()\n",
    "    i += 1\n",
    "    \n",
    "print(\"Pattern number: 2\")\n",
    "\"\"\"\n",
    "  1 \n",
    "  2   3 \n",
    "  4   5   6 \n",
    "  7   8   9  10 \n",
    " 11  12  13  14  15\n",
    "\"\"\"\n",
    "n = 5\n",
    "k = 1\n",
    "i = 1\n",
    "while i <= n :\n",
    "    j = 1\n",
    "    while j <= i:\n",
    "        print(\"{:3d}\".format(k), end = \" \")\n",
    "        j += 1\n",
    "        k += 1\n",
    "    print()\n",
    "    i += 1\n",
    "    \n",
    "\n",
    "print(\"Pattern number: 3\")    \n",
    "\"\"\"\n",
    "* * * * * \n",
    "* * * * \n",
    "* * * \n",
    "* * \n",
    "* \n",
    "\"\"\"\n",
    "\n",
    "n = 5\n",
    "i = 1\n",
    "while i <= n :\n",
    "    j = n\n",
    "    while j >= i:\n",
    "        print(\"*\", end = \" \")\n",
    "        j -= 1\n",
    "    print()\n",
    "    i += 1"
   ]
  },
  {
   "cell_type": "code",
   "execution_count": 7,
   "id": "d085eb5d-69f5-42b7-ab6d-e62e20bc9c3e",
   "metadata": {},
   "outputs": [
    {
     "name": "stdout",
     "output_type": "stream",
     "text": [
      "10 9 8 7 6 5 4 3 2 1 "
     ]
    }
   ],
   "source": [
    "\"\"\"Q7. & Q8. Reverse a while loop to display numbers from 10 to 1.\"\"\"\n",
    "\n",
    "n = 10\n",
    "while n > 0:\n",
    "    print(n, end = \" \")\n",
    "    n = n - 1"
   ]
  },
  {
   "cell_type": "code",
   "execution_count": null,
   "id": "32d30ce9-6296-4750-9ec2-4fe0be891d70",
   "metadata": {},
   "outputs": [],
   "source": []
  }
 ],
 "metadata": {
  "kernelspec": {
   "display_name": "Python 3 (ipykernel)",
   "language": "python",
   "name": "python3"
  },
  "language_info": {
   "codemirror_mode": {
    "name": "ipython",
    "version": 3
   },
   "file_extension": ".py",
   "mimetype": "text/x-python",
   "name": "python",
   "nbconvert_exporter": "python",
   "pygments_lexer": "ipython3",
   "version": "3.10.8"
  }
 },
 "nbformat": 4,
 "nbformat_minor": 5
}
